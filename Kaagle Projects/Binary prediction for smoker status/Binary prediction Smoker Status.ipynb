{
 "cells": [
  {
   "cell_type": "code",
   "execution_count": 1,
   "metadata": {},
   "outputs": [],
   "source": [
    "import pandas as pd\n",
    "import numpy as np \n",
    "from sklearn.feature_selection import mutual_info_classif\n",
    "from sklearn.model_selection import train_test_split\n",
    "from sklearn.linear_model import LogisticRegression\n",
    "from sklearn.ensemble import RandomForestClassifier\n",
    "from xgboost import XGBClassifier\n",
    "from catboost import CatBoostClassifier\n",
    "import matplotlib.pyplot as plt\n",
    "from sklearn.metrics import roc_auc_score\n",
    "import seaborn as sns"
   ]
  },
  {
   "cell_type": "code",
   "execution_count": 2,
   "metadata": {},
   "outputs": [],
   "source": [
    "#pip install catboost"
   ]
  },
  {
   "cell_type": "code",
   "execution_count": 3,
   "metadata": {},
   "outputs": [],
   "source": [
    "train = pd.read_csv(\"train.csv\")\n",
    "test = pd.read_csv(\"test.csv\")"
   ]
  },
  {
   "cell_type": "code",
   "execution_count": 4,
   "metadata": {},
   "outputs": [
    {
     "data": {
      "text/html": [
       "<div>\n",
       "<style scoped>\n",
       "    .dataframe tbody tr th:only-of-type {\n",
       "        vertical-align: middle;\n",
       "    }\n",
       "\n",
       "    .dataframe tbody tr th {\n",
       "        vertical-align: top;\n",
       "    }\n",
       "\n",
       "    .dataframe thead th {\n",
       "        text-align: right;\n",
       "    }\n",
       "</style>\n",
       "<table border=\"1\" class=\"dataframe\">\n",
       "  <thead>\n",
       "    <tr style=\"text-align: right;\">\n",
       "      <th></th>\n",
       "      <th>id</th>\n",
       "      <th>age</th>\n",
       "      <th>height(cm)</th>\n",
       "      <th>weight(kg)</th>\n",
       "      <th>waist(cm)</th>\n",
       "      <th>eyesight(left)</th>\n",
       "      <th>eyesight(right)</th>\n",
       "      <th>hearing(left)</th>\n",
       "      <th>hearing(right)</th>\n",
       "      <th>systolic</th>\n",
       "      <th>...</th>\n",
       "      <th>HDL</th>\n",
       "      <th>LDL</th>\n",
       "      <th>hemoglobin</th>\n",
       "      <th>Urine protein</th>\n",
       "      <th>serum creatinine</th>\n",
       "      <th>AST</th>\n",
       "      <th>ALT</th>\n",
       "      <th>Gtp</th>\n",
       "      <th>dental caries</th>\n",
       "      <th>smoking</th>\n",
       "    </tr>\n",
       "  </thead>\n",
       "  <tbody>\n",
       "    <tr>\n",
       "      <th>0</th>\n",
       "      <td>0</td>\n",
       "      <td>55</td>\n",
       "      <td>165</td>\n",
       "      <td>60</td>\n",
       "      <td>81.0</td>\n",
       "      <td>0.5</td>\n",
       "      <td>0.6</td>\n",
       "      <td>1</td>\n",
       "      <td>1</td>\n",
       "      <td>135</td>\n",
       "      <td>...</td>\n",
       "      <td>40</td>\n",
       "      <td>75</td>\n",
       "      <td>16.5</td>\n",
       "      <td>1</td>\n",
       "      <td>1.0</td>\n",
       "      <td>22</td>\n",
       "      <td>25</td>\n",
       "      <td>27</td>\n",
       "      <td>0</td>\n",
       "      <td>1</td>\n",
       "    </tr>\n",
       "    <tr>\n",
       "      <th>1</th>\n",
       "      <td>1</td>\n",
       "      <td>70</td>\n",
       "      <td>165</td>\n",
       "      <td>65</td>\n",
       "      <td>89.0</td>\n",
       "      <td>0.6</td>\n",
       "      <td>0.7</td>\n",
       "      <td>2</td>\n",
       "      <td>2</td>\n",
       "      <td>146</td>\n",
       "      <td>...</td>\n",
       "      <td>57</td>\n",
       "      <td>126</td>\n",
       "      <td>16.2</td>\n",
       "      <td>1</td>\n",
       "      <td>1.1</td>\n",
       "      <td>27</td>\n",
       "      <td>23</td>\n",
       "      <td>37</td>\n",
       "      <td>1</td>\n",
       "      <td>0</td>\n",
       "    </tr>\n",
       "    <tr>\n",
       "      <th>2</th>\n",
       "      <td>2</td>\n",
       "      <td>20</td>\n",
       "      <td>170</td>\n",
       "      <td>75</td>\n",
       "      <td>81.0</td>\n",
       "      <td>0.4</td>\n",
       "      <td>0.5</td>\n",
       "      <td>1</td>\n",
       "      <td>1</td>\n",
       "      <td>118</td>\n",
       "      <td>...</td>\n",
       "      <td>45</td>\n",
       "      <td>93</td>\n",
       "      <td>17.4</td>\n",
       "      <td>1</td>\n",
       "      <td>0.8</td>\n",
       "      <td>27</td>\n",
       "      <td>31</td>\n",
       "      <td>53</td>\n",
       "      <td>0</td>\n",
       "      <td>1</td>\n",
       "    </tr>\n",
       "    <tr>\n",
       "      <th>3</th>\n",
       "      <td>3</td>\n",
       "      <td>35</td>\n",
       "      <td>180</td>\n",
       "      <td>95</td>\n",
       "      <td>105.0</td>\n",
       "      <td>1.5</td>\n",
       "      <td>1.2</td>\n",
       "      <td>1</td>\n",
       "      <td>1</td>\n",
       "      <td>131</td>\n",
       "      <td>...</td>\n",
       "      <td>38</td>\n",
       "      <td>102</td>\n",
       "      <td>15.9</td>\n",
       "      <td>1</td>\n",
       "      <td>1.0</td>\n",
       "      <td>20</td>\n",
       "      <td>27</td>\n",
       "      <td>30</td>\n",
       "      <td>1</td>\n",
       "      <td>0</td>\n",
       "    </tr>\n",
       "    <tr>\n",
       "      <th>4</th>\n",
       "      <td>4</td>\n",
       "      <td>30</td>\n",
       "      <td>165</td>\n",
       "      <td>60</td>\n",
       "      <td>80.5</td>\n",
       "      <td>1.5</td>\n",
       "      <td>1.0</td>\n",
       "      <td>1</td>\n",
       "      <td>1</td>\n",
       "      <td>121</td>\n",
       "      <td>...</td>\n",
       "      <td>44</td>\n",
       "      <td>93</td>\n",
       "      <td>15.4</td>\n",
       "      <td>1</td>\n",
       "      <td>0.8</td>\n",
       "      <td>19</td>\n",
       "      <td>13</td>\n",
       "      <td>17</td>\n",
       "      <td>0</td>\n",
       "      <td>1</td>\n",
       "    </tr>\n",
       "  </tbody>\n",
       "</table>\n",
       "<p>5 rows × 24 columns</p>\n",
       "</div>"
      ],
      "text/plain": [
       "   id  age  height(cm)  weight(kg)  waist(cm)  eyesight(left)  \\\n",
       "0   0   55         165          60       81.0             0.5   \n",
       "1   1   70         165          65       89.0             0.6   \n",
       "2   2   20         170          75       81.0             0.4   \n",
       "3   3   35         180          95      105.0             1.5   \n",
       "4   4   30         165          60       80.5             1.5   \n",
       "\n",
       "   eyesight(right)  hearing(left)  hearing(right)  systolic  ...  HDL  LDL  \\\n",
       "0              0.6              1               1       135  ...   40   75   \n",
       "1              0.7              2               2       146  ...   57  126   \n",
       "2              0.5              1               1       118  ...   45   93   \n",
       "3              1.2              1               1       131  ...   38  102   \n",
       "4              1.0              1               1       121  ...   44   93   \n",
       "\n",
       "   hemoglobin  Urine protein  serum creatinine  AST  ALT  Gtp  dental caries  \\\n",
       "0        16.5              1               1.0   22   25   27              0   \n",
       "1        16.2              1               1.1   27   23   37              1   \n",
       "2        17.4              1               0.8   27   31   53              0   \n",
       "3        15.9              1               1.0   20   27   30              1   \n",
       "4        15.4              1               0.8   19   13   17              0   \n",
       "\n",
       "   smoking  \n",
       "0        1  \n",
       "1        0  \n",
       "2        1  \n",
       "3        0  \n",
       "4        1  \n",
       "\n",
       "[5 rows x 24 columns]"
      ]
     },
     "execution_count": 4,
     "metadata": {},
     "output_type": "execute_result"
    }
   ],
   "source": [
    "train.head()"
   ]
  },
  {
   "cell_type": "code",
   "execution_count": 5,
   "metadata": {},
   "outputs": [
    {
     "data": {
      "text/plain": [
       "Index(['id', 'age', 'height(cm)', 'weight(kg)', 'waist(cm)', 'eyesight(left)',\n",
       "       'eyesight(right)', 'hearing(left)', 'hearing(right)', 'systolic',\n",
       "       'relaxation', 'fasting blood sugar', 'Cholesterol', 'triglyceride',\n",
       "       'HDL', 'LDL', 'hemoglobin', 'Urine protein', 'serum creatinine', 'AST',\n",
       "       'ALT', 'Gtp', 'dental caries', 'smoking'],\n",
       "      dtype='object')"
      ]
     },
     "execution_count": 5,
     "metadata": {},
     "output_type": "execute_result"
    }
   ],
   "source": [
    "train.columns"
   ]
  },
  {
   "cell_type": "code",
   "execution_count": 6,
   "metadata": {},
   "outputs": [
    {
     "name": "stdout",
     "output_type": "stream",
     "text": [
      "<class 'pandas.core.frame.DataFrame'>\n",
      "RangeIndex: 159256 entries, 0 to 159255\n",
      "Data columns (total 24 columns):\n",
      " #   Column               Non-Null Count   Dtype  \n",
      "---  ------               --------------   -----  \n",
      " 0   id                   159256 non-null  int64  \n",
      " 1   age                  159256 non-null  int64  \n",
      " 2   height(cm)           159256 non-null  int64  \n",
      " 3   weight(kg)           159256 non-null  int64  \n",
      " 4   waist(cm)            159256 non-null  float64\n",
      " 5   eyesight(left)       159256 non-null  float64\n",
      " 6   eyesight(right)      159256 non-null  float64\n",
      " 7   hearing(left)        159256 non-null  int64  \n",
      " 8   hearing(right)       159256 non-null  int64  \n",
      " 9   systolic             159256 non-null  int64  \n",
      " 10  relaxation           159256 non-null  int64  \n",
      " 11  fasting blood sugar  159256 non-null  int64  \n",
      " 12  Cholesterol          159256 non-null  int64  \n",
      " 13  triglyceride         159256 non-null  int64  \n",
      " 14  HDL                  159256 non-null  int64  \n",
      " 15  LDL                  159256 non-null  int64  \n",
      " 16  hemoglobin           159256 non-null  float64\n",
      " 17  Urine protein        159256 non-null  int64  \n",
      " 18  serum creatinine     159256 non-null  float64\n",
      " 19  AST                  159256 non-null  int64  \n",
      " 20  ALT                  159256 non-null  int64  \n",
      " 21  Gtp                  159256 non-null  int64  \n",
      " 22  dental caries        159256 non-null  int64  \n",
      " 23  smoking              159256 non-null  int64  \n",
      "dtypes: float64(5), int64(19)\n",
      "memory usage: 29.2 MB\n"
     ]
    }
   ],
   "source": [
    "train.info()"
   ]
  },
  {
   "cell_type": "code",
   "execution_count": 7,
   "metadata": {},
   "outputs": [
    {
     "data": {
      "text/html": [
       "<div>\n",
       "<style scoped>\n",
       "    .dataframe tbody tr th:only-of-type {\n",
       "        vertical-align: middle;\n",
       "    }\n",
       "\n",
       "    .dataframe tbody tr th {\n",
       "        vertical-align: top;\n",
       "    }\n",
       "\n",
       "    .dataframe thead th {\n",
       "        text-align: right;\n",
       "    }\n",
       "</style>\n",
       "<table border=\"1\" class=\"dataframe\">\n",
       "  <thead>\n",
       "    <tr style=\"text-align: right;\">\n",
       "      <th></th>\n",
       "      <th>id</th>\n",
       "      <th>age</th>\n",
       "      <th>height(cm)</th>\n",
       "      <th>weight(kg)</th>\n",
       "      <th>waist(cm)</th>\n",
       "      <th>eyesight(left)</th>\n",
       "      <th>eyesight(right)</th>\n",
       "      <th>hearing(left)</th>\n",
       "      <th>hearing(right)</th>\n",
       "      <th>systolic</th>\n",
       "      <th>...</th>\n",
       "      <th>HDL</th>\n",
       "      <th>LDL</th>\n",
       "      <th>hemoglobin</th>\n",
       "      <th>Urine protein</th>\n",
       "      <th>serum creatinine</th>\n",
       "      <th>AST</th>\n",
       "      <th>ALT</th>\n",
       "      <th>Gtp</th>\n",
       "      <th>dental caries</th>\n",
       "      <th>smoking</th>\n",
       "    </tr>\n",
       "  </thead>\n",
       "  <tbody>\n",
       "    <tr>\n",
       "      <th>count</th>\n",
       "      <td>159256.000000</td>\n",
       "      <td>159256.000000</td>\n",
       "      <td>159256.000000</td>\n",
       "      <td>159256.000000</td>\n",
       "      <td>159256.000000</td>\n",
       "      <td>159256.000000</td>\n",
       "      <td>159256.000000</td>\n",
       "      <td>159256.000000</td>\n",
       "      <td>159256.000000</td>\n",
       "      <td>159256.000000</td>\n",
       "      <td>...</td>\n",
       "      <td>159256.000000</td>\n",
       "      <td>159256.000000</td>\n",
       "      <td>159256.000000</td>\n",
       "      <td>159256.000000</td>\n",
       "      <td>159256.000000</td>\n",
       "      <td>159256.000000</td>\n",
       "      <td>159256.000000</td>\n",
       "      <td>159256.000000</td>\n",
       "      <td>159256.000000</td>\n",
       "      <td>159256.000000</td>\n",
       "    </tr>\n",
       "    <tr>\n",
       "      <th>mean</th>\n",
       "      <td>79627.500000</td>\n",
       "      <td>44.306626</td>\n",
       "      <td>165.266929</td>\n",
       "      <td>67.143662</td>\n",
       "      <td>83.001990</td>\n",
       "      <td>1.005798</td>\n",
       "      <td>1.000989</td>\n",
       "      <td>1.023974</td>\n",
       "      <td>1.023421</td>\n",
       "      <td>122.503648</td>\n",
       "      <td>...</td>\n",
       "      <td>55.852684</td>\n",
       "      <td>114.607682</td>\n",
       "      <td>14.796965</td>\n",
       "      <td>1.074233</td>\n",
       "      <td>0.892764</td>\n",
       "      <td>25.516853</td>\n",
       "      <td>26.550296</td>\n",
       "      <td>36.216004</td>\n",
       "      <td>0.197996</td>\n",
       "      <td>0.437365</td>\n",
       "    </tr>\n",
       "    <tr>\n",
       "      <th>std</th>\n",
       "      <td>45973.391572</td>\n",
       "      <td>11.842286</td>\n",
       "      <td>8.818970</td>\n",
       "      <td>12.586198</td>\n",
       "      <td>8.957937</td>\n",
       "      <td>0.402113</td>\n",
       "      <td>0.392299</td>\n",
       "      <td>0.152969</td>\n",
       "      <td>0.151238</td>\n",
       "      <td>12.729315</td>\n",
       "      <td>...</td>\n",
       "      <td>13.964141</td>\n",
       "      <td>28.158931</td>\n",
       "      <td>1.431213</td>\n",
       "      <td>0.347856</td>\n",
       "      <td>0.179346</td>\n",
       "      <td>9.464882</td>\n",
       "      <td>17.753070</td>\n",
       "      <td>31.204643</td>\n",
       "      <td>0.398490</td>\n",
       "      <td>0.496063</td>\n",
       "    </tr>\n",
       "    <tr>\n",
       "      <th>min</th>\n",
       "      <td>0.000000</td>\n",
       "      <td>20.000000</td>\n",
       "      <td>135.000000</td>\n",
       "      <td>30.000000</td>\n",
       "      <td>51.000000</td>\n",
       "      <td>0.100000</td>\n",
       "      <td>0.100000</td>\n",
       "      <td>1.000000</td>\n",
       "      <td>1.000000</td>\n",
       "      <td>77.000000</td>\n",
       "      <td>...</td>\n",
       "      <td>9.000000</td>\n",
       "      <td>1.000000</td>\n",
       "      <td>4.900000</td>\n",
       "      <td>1.000000</td>\n",
       "      <td>0.100000</td>\n",
       "      <td>6.000000</td>\n",
       "      <td>1.000000</td>\n",
       "      <td>2.000000</td>\n",
       "      <td>0.000000</td>\n",
       "      <td>0.000000</td>\n",
       "    </tr>\n",
       "    <tr>\n",
       "      <th>25%</th>\n",
       "      <td>39813.750000</td>\n",
       "      <td>40.000000</td>\n",
       "      <td>160.000000</td>\n",
       "      <td>60.000000</td>\n",
       "      <td>77.000000</td>\n",
       "      <td>0.800000</td>\n",
       "      <td>0.800000</td>\n",
       "      <td>1.000000</td>\n",
       "      <td>1.000000</td>\n",
       "      <td>114.000000</td>\n",
       "      <td>...</td>\n",
       "      <td>45.000000</td>\n",
       "      <td>95.000000</td>\n",
       "      <td>13.800000</td>\n",
       "      <td>1.000000</td>\n",
       "      <td>0.800000</td>\n",
       "      <td>20.000000</td>\n",
       "      <td>16.000000</td>\n",
       "      <td>18.000000</td>\n",
       "      <td>0.000000</td>\n",
       "      <td>0.000000</td>\n",
       "    </tr>\n",
       "    <tr>\n",
       "      <th>50%</th>\n",
       "      <td>79627.500000</td>\n",
       "      <td>40.000000</td>\n",
       "      <td>165.000000</td>\n",
       "      <td>65.000000</td>\n",
       "      <td>83.000000</td>\n",
       "      <td>1.000000</td>\n",
       "      <td>1.000000</td>\n",
       "      <td>1.000000</td>\n",
       "      <td>1.000000</td>\n",
       "      <td>121.000000</td>\n",
       "      <td>...</td>\n",
       "      <td>54.000000</td>\n",
       "      <td>114.000000</td>\n",
       "      <td>15.000000</td>\n",
       "      <td>1.000000</td>\n",
       "      <td>0.900000</td>\n",
       "      <td>24.000000</td>\n",
       "      <td>22.000000</td>\n",
       "      <td>27.000000</td>\n",
       "      <td>0.000000</td>\n",
       "      <td>0.000000</td>\n",
       "    </tr>\n",
       "    <tr>\n",
       "      <th>75%</th>\n",
       "      <td>119441.250000</td>\n",
       "      <td>55.000000</td>\n",
       "      <td>170.000000</td>\n",
       "      <td>75.000000</td>\n",
       "      <td>89.000000</td>\n",
       "      <td>1.200000</td>\n",
       "      <td>1.200000</td>\n",
       "      <td>1.000000</td>\n",
       "      <td>1.000000</td>\n",
       "      <td>130.000000</td>\n",
       "      <td>...</td>\n",
       "      <td>64.000000</td>\n",
       "      <td>133.000000</td>\n",
       "      <td>15.800000</td>\n",
       "      <td>1.000000</td>\n",
       "      <td>1.000000</td>\n",
       "      <td>29.000000</td>\n",
       "      <td>32.000000</td>\n",
       "      <td>44.000000</td>\n",
       "      <td>0.000000</td>\n",
       "      <td>1.000000</td>\n",
       "    </tr>\n",
       "    <tr>\n",
       "      <th>max</th>\n",
       "      <td>159255.000000</td>\n",
       "      <td>85.000000</td>\n",
       "      <td>190.000000</td>\n",
       "      <td>130.000000</td>\n",
       "      <td>127.000000</td>\n",
       "      <td>9.900000</td>\n",
       "      <td>9.900000</td>\n",
       "      <td>2.000000</td>\n",
       "      <td>2.000000</td>\n",
       "      <td>213.000000</td>\n",
       "      <td>...</td>\n",
       "      <td>136.000000</td>\n",
       "      <td>1860.000000</td>\n",
       "      <td>21.000000</td>\n",
       "      <td>6.000000</td>\n",
       "      <td>9.900000</td>\n",
       "      <td>778.000000</td>\n",
       "      <td>2914.000000</td>\n",
       "      <td>999.000000</td>\n",
       "      <td>1.000000</td>\n",
       "      <td>1.000000</td>\n",
       "    </tr>\n",
       "  </tbody>\n",
       "</table>\n",
       "<p>8 rows × 24 columns</p>\n",
       "</div>"
      ],
      "text/plain": [
       "                  id            age     height(cm)     weight(kg)  \\\n",
       "count  159256.000000  159256.000000  159256.000000  159256.000000   \n",
       "mean    79627.500000      44.306626     165.266929      67.143662   \n",
       "std     45973.391572      11.842286       8.818970      12.586198   \n",
       "min         0.000000      20.000000     135.000000      30.000000   \n",
       "25%     39813.750000      40.000000     160.000000      60.000000   \n",
       "50%     79627.500000      40.000000     165.000000      65.000000   \n",
       "75%    119441.250000      55.000000     170.000000      75.000000   \n",
       "max    159255.000000      85.000000     190.000000     130.000000   \n",
       "\n",
       "           waist(cm)  eyesight(left)  eyesight(right)  hearing(left)  \\\n",
       "count  159256.000000   159256.000000    159256.000000  159256.000000   \n",
       "mean       83.001990        1.005798         1.000989       1.023974   \n",
       "std         8.957937        0.402113         0.392299       0.152969   \n",
       "min        51.000000        0.100000         0.100000       1.000000   \n",
       "25%        77.000000        0.800000         0.800000       1.000000   \n",
       "50%        83.000000        1.000000         1.000000       1.000000   \n",
       "75%        89.000000        1.200000         1.200000       1.000000   \n",
       "max       127.000000        9.900000         9.900000       2.000000   \n",
       "\n",
       "       hearing(right)       systolic  ...            HDL            LDL  \\\n",
       "count   159256.000000  159256.000000  ...  159256.000000  159256.000000   \n",
       "mean         1.023421     122.503648  ...      55.852684     114.607682   \n",
       "std          0.151238      12.729315  ...      13.964141      28.158931   \n",
       "min          1.000000      77.000000  ...       9.000000       1.000000   \n",
       "25%          1.000000     114.000000  ...      45.000000      95.000000   \n",
       "50%          1.000000     121.000000  ...      54.000000     114.000000   \n",
       "75%          1.000000     130.000000  ...      64.000000     133.000000   \n",
       "max          2.000000     213.000000  ...     136.000000    1860.000000   \n",
       "\n",
       "          hemoglobin  Urine protein  serum creatinine            AST  \\\n",
       "count  159256.000000  159256.000000     159256.000000  159256.000000   \n",
       "mean       14.796965       1.074233          0.892764      25.516853   \n",
       "std         1.431213       0.347856          0.179346       9.464882   \n",
       "min         4.900000       1.000000          0.100000       6.000000   \n",
       "25%        13.800000       1.000000          0.800000      20.000000   \n",
       "50%        15.000000       1.000000          0.900000      24.000000   \n",
       "75%        15.800000       1.000000          1.000000      29.000000   \n",
       "max        21.000000       6.000000          9.900000     778.000000   \n",
       "\n",
       "                 ALT            Gtp  dental caries        smoking  \n",
       "count  159256.000000  159256.000000  159256.000000  159256.000000  \n",
       "mean       26.550296      36.216004       0.197996       0.437365  \n",
       "std        17.753070      31.204643       0.398490       0.496063  \n",
       "min         1.000000       2.000000       0.000000       0.000000  \n",
       "25%        16.000000      18.000000       0.000000       0.000000  \n",
       "50%        22.000000      27.000000       0.000000       0.000000  \n",
       "75%        32.000000      44.000000       0.000000       1.000000  \n",
       "max      2914.000000     999.000000       1.000000       1.000000  \n",
       "\n",
       "[8 rows x 24 columns]"
      ]
     },
     "execution_count": 7,
     "metadata": {},
     "output_type": "execute_result"
    }
   ],
   "source": [
    "train.describe()"
   ]
  },
  {
   "cell_type": "code",
   "execution_count": 8,
   "metadata": {},
   "outputs": [],
   "source": [
    "# Data preprocessing and EDA"
   ]
  },
  {
   "cell_type": "code",
   "execution_count": 93,
   "metadata": {},
   "outputs": [
    {
     "data": {
      "text/plain": [
       "id                     0\n",
       "age                    0\n",
       "height(cm)             0\n",
       "weight(kg)             0\n",
       "waist(cm)              0\n",
       "eyesight(left)         0\n",
       "eyesight(right)        0\n",
       "hearing(left)          0\n",
       "hearing(right)         0\n",
       "systolic               0\n",
       "relaxation             0\n",
       "fasting blood sugar    0\n",
       "Cholesterol            0\n",
       "triglyceride           0\n",
       "HDL                    0\n",
       "LDL                    0\n",
       "hemoglobin             0\n",
       "Urine protein          0\n",
       "serum creatinine       0\n",
       "AST                    0\n",
       "ALT                    0\n",
       "Gtp                    0\n",
       "dental caries          0\n",
       "dtype: int64"
      ]
     },
     "execution_count": 93,
     "metadata": {},
     "output_type": "execute_result"
    }
   ],
   "source": [
    "test.isna().sum()"
   ]
  },
  {
   "cell_type": "code",
   "execution_count": 9,
   "metadata": {},
   "outputs": [
    {
     "data": {
      "text/plain": [
       "id                     0\n",
       "age                    0\n",
       "height(cm)             0\n",
       "weight(kg)             0\n",
       "waist(cm)              0\n",
       "eyesight(left)         0\n",
       "eyesight(right)        0\n",
       "hearing(left)          0\n",
       "hearing(right)         0\n",
       "systolic               0\n",
       "relaxation             0\n",
       "fasting blood sugar    0\n",
       "Cholesterol            0\n",
       "triglyceride           0\n",
       "HDL                    0\n",
       "LDL                    0\n",
       "hemoglobin             0\n",
       "Urine protein          0\n",
       "serum creatinine       0\n",
       "AST                    0\n",
       "ALT                    0\n",
       "Gtp                    0\n",
       "dental caries          0\n",
       "smoking                0\n",
       "dtype: int64"
      ]
     },
     "execution_count": 9,
     "metadata": {},
     "output_type": "execute_result"
    }
   ],
   "source": [
    "train.isna().sum()"
   ]
  },
  {
   "cell_type": "code",
   "execution_count": 10,
   "metadata": {},
   "outputs": [
    {
     "data": {
      "text/plain": [
       "False"
      ]
     },
     "execution_count": 10,
     "metadata": {},
     "output_type": "execute_result"
    }
   ],
   "source": [
    "any(train.duplicated())"
   ]
  },
  {
   "cell_type": "code",
   "execution_count": 94,
   "metadata": {},
   "outputs": [
    {
     "data": {
      "text/plain": [
       "False"
      ]
     },
     "execution_count": 94,
     "metadata": {},
     "output_type": "execute_result"
    }
   ],
   "source": [
    "any(test.duplicated())"
   ]
  },
  {
   "cell_type": "code",
   "execution_count": 11,
   "metadata": {},
   "outputs": [],
   "source": [
    "corr_matrix = train.corr()"
   ]
  },
  {
   "cell_type": "code",
   "execution_count": 12,
   "metadata": {},
   "outputs": [
    {
     "data": {
      "image/png": "[encoded data removed]",
      "text/plain": [
       "<Figure size 1008x864 with 2 Axes>"
      ]
     },
     "metadata": {
      "needs_background": "light"
     },
     "output_type": "display_data"
    }
   ],
   "source": [
    "plt.figure(figsize=(14,12))\n",
    "sns.heatmap(corr_matrix,cmap='coolwarm',annot=True,fmt='.2f')\n",
    "plt.show()\n"
   ]
  },
  {
   "cell_type": "code",
   "execution_count": 13,
   "metadata": {},
   "outputs": [],
   "source": [
    "X = train.drop('smoking',axis=1)\n",
    "y = train['smoking']"
   ]
  },
  {
   "cell_type": "code",
   "execution_count": 14,
   "metadata": {},
   "outputs": [],
   "source": [
    "X_train,X_valid,y_train,y_valid = train_test_split(X,y,test_size=0.2,random_state=42)"
   ]
  },
  {
   "cell_type": "code",
   "execution_count": 15,
   "metadata": {},
   "outputs": [],
   "source": [
    "mutual_info = mutual_info_classif(X_train,y_train)"
   ]
  },
  {
   "cell_type": "code",
   "execution_count": 16,
   "metadata": {},
   "outputs": [
    {
     "name": "stdout",
     "output_type": "stream",
     "text": [
      "Feature 'id': Mutual Information = 0.0\n",
      "Feature 'age': Mutual Information = 0.02511730230998399\n",
      "Feature 'height(cm)': Mutual Information = 0.13554970318270176\n",
      "Feature 'weight(kg)': Mutual Information = 0.08118715944032884\n",
      "Feature 'waist(cm)': Mutual Information = 0.046491385883409286\n",
      "Feature 'eyesight(left)': Mutual Information = 0.014237288043781993\n",
      "Feature 'eyesight(right)': Mutual Information = 0.015662417643640403\n",
      "Feature 'hearing(left)': Mutual Information = 0.015384632777276197\n",
      "Feature 'hearing(right)': Mutual Information = 0.016191572724793435\n",
      "Feature 'systolic': Mutual Information = 0.011232826396227358\n",
      "Feature 'relaxation': Mutual Information = 0.012774000844768985\n",
      "Feature 'fasting blood sugar': Mutual Information = 0.010210371861520962\n",
      "Feature 'Cholesterol': Mutual Information = 0.006641428379823067\n",
      "Feature 'triglyceride': Mutual Information = 0.07644149186993232\n",
      "Feature 'HDL': Mutual Information = 0.0426645646043089\n",
      "Feature 'LDL': Mutual Information = 0.007882744535183894\n",
      "Feature 'hemoglobin': Mutual Information = 0.13452640239759628\n",
      "Feature 'Urine protein': Mutual Information = 0.013387125424600299\n",
      "Feature 'serum creatinine': Mutual Information = 0.06431959614929261\n",
      "Feature 'AST': Mutual Information = 0.004852977820338111\n",
      "Feature 'ALT': Mutual Information = 0.031793304592174776\n",
      "Feature 'Gtp': Mutual Information = 0.09975514135337749\n",
      "Feature 'dental caries': Mutual Information = 0.006536817819648988\n"
     ]
    }
   ],
   "source": [
    "for i,col in enumerate(X_train.columns):\n",
    "    print(f\"Feature '{col}': Mutual Information = {mutual_info[i]}\")"
   ]
  },
  {
   "cell_type": "code",
   "execution_count": 17,
   "metadata": {},
   "outputs": [
    {
     "name": "stderr",
     "output_type": "stream",
     "text": [
      "<ipython-input-17-11c5a4560ceb>:1: SettingWithCopyWarning: \n",
      "A value is trying to be set on a copy of a slice from a DataFrame.\n",
      "Try using .loc[row_indexer,col_indexer] = value instead\n",
      "\n",
      "See the caveats in the documentation: https://pandas.pydata.org/pandas-docs/stable/user_guide/indexing.html#returning-a-view-versus-a-copy\n",
      "  X_train['bmi'] = (X_train['weight(kg)'])/((X_train['height(cm)']/100)**2)\n"
     ]
    }
   ],
   "source": [
    "X_train['bmi'] = (X_train['weight(kg)'])/((X_train['height(cm)']/100)**2)"
   ]
  },
  {
   "cell_type": "code",
   "execution_count": 18,
   "metadata": {},
   "outputs": [
    {
     "data": {
      "text/plain": [
       "Index(['id', 'age', 'height(cm)', 'weight(kg)', 'waist(cm)', 'eyesight(left)',\n",
       "       'eyesight(right)', 'hearing(left)', 'hearing(right)', 'systolic',\n",
       "       'relaxation', 'fasting blood sugar', 'Cholesterol', 'triglyceride',\n",
       "       'HDL', 'LDL', 'hemoglobin', 'Urine protein', 'serum creatinine', 'AST',\n",
       "       'ALT', 'Gtp', 'dental caries', 'bmi'],\n",
       "      dtype='object')"
      ]
     },
     "execution_count": 18,
     "metadata": {},
     "output_type": "execute_result"
    }
   ],
   "source": [
    "X_train.columns"
   ]
  },
  {
   "cell_type": "code",
   "execution_count": 19,
   "metadata": {},
   "outputs": [],
   "source": [
    "mutual_info_1 = mutual_info_classif(X_train,y_train)"
   ]
  },
  {
   "cell_type": "code",
   "execution_count": 20,
   "metadata": {},
   "outputs": [
    {
     "name": "stdout",
     "output_type": "stream",
     "text": [
      "Feature=id,Mutual_info=0.0\n",
      "Feature=age,Mutual_info=0.026475970254515424\n",
      "Feature=height(cm),Mutual_info=0.13854750404739802\n",
      "Feature=weight(kg),Mutual_info=0.08137702012699433\n",
      "Feature=waist(cm),Mutual_info=0.04521470588441767\n",
      "Feature=eyesight(left),Mutual_info=0.009522645712353839\n",
      "Feature=eyesight(right),Mutual_info=0.015891090869710522\n",
      "Feature=hearing(left),Mutual_info=0.017236618357550304\n",
      "Feature=hearing(right),Mutual_info=0.014278215683737328\n",
      "Feature=systolic,Mutual_info=0.011017379301423436\n",
      "Feature=relaxation,Mutual_info=0.014677710207807948\n",
      "Feature=fasting blood sugar,Mutual_info=0.011037723797663324\n",
      "Feature=Cholesterol,Mutual_info=0.0077472789153343324\n",
      "Feature=triglyceride,Mutual_info=0.07663851179436532\n",
      "Feature=HDL,Mutual_info=0.038059619816358525\n",
      "Feature=LDL,Mutual_info=0.008696242693734035\n",
      "Feature=hemoglobin,Mutual_info=0.13304704807807233\n",
      "Feature=Urine protein,Mutual_info=0.014487118501927965\n",
      "Feature=serum creatinine,Mutual_info=0.06349880686118392\n",
      "Feature=AST,Mutual_info=0.0026837168646207665\n",
      "Feature=ALT,Mutual_info=0.030996162308057462\n",
      "Feature=Gtp,Mutual_info=0.09737460563148037\n",
      "Feature=dental caries,Mutual_info=0.008025977762450065\n",
      "Feature=bmi,Mutual_info=0.1398307566666268\n"
     ]
    }
   ],
   "source": [
    "for i,col in enumerate(X_train.columns):\n",
    "    print(f\"Feature={col},Mutual_info={mutual_info_1[i]}\")"
   ]
  },
  {
   "cell_type": "code",
   "execution_count": 21,
   "metadata": {},
   "outputs": [
    {
     "name": "stderr",
     "output_type": "stream",
     "text": [
      "<ipython-input-21-b9fb8bc9653f>:1: SettingWithCopyWarning: \n",
      "A value is trying to be set on a copy of a slice from a DataFrame.\n",
      "Try using .loc[row_indexer,col_indexer] = value instead\n",
      "\n",
      "See the caveats in the documentation: https://pandas.pydata.org/pandas-docs/stable/user_guide/indexing.html#returning-a-view-versus-a-copy\n",
      "  X_valid['bmi'] = (X_valid['weight(kg)'])/((X_valid['height(cm)']/100)**2)\n"
     ]
    }
   ],
   "source": [
    "X_valid['bmi'] = (X_valid['weight(kg)'])/((X_valid['height(cm)']/100)**2)"
   ]
  },
  {
   "cell_type": "code",
   "execution_count": 22,
   "metadata": {},
   "outputs": [
    {
     "data": {
      "text/plain": [
       "Index(['id', 'age', 'height(cm)', 'weight(kg)', 'waist(cm)', 'eyesight(left)',\n",
       "       'eyesight(right)', 'hearing(left)', 'hearing(right)', 'systolic',\n",
       "       'relaxation', 'fasting blood sugar', 'Cholesterol', 'triglyceride',\n",
       "       'HDL', 'LDL', 'hemoglobin', 'Urine protein', 'serum creatinine', 'AST',\n",
       "       'ALT', 'Gtp', 'dental caries', 'bmi'],\n",
       "      dtype='object')"
      ]
     },
     "execution_count": 22,
     "metadata": {},
     "output_type": "execute_result"
    }
   ],
   "source": [
    "X_valid.columns"
   ]
  },
  {
   "cell_type": "code",
   "execution_count": 95,
   "metadata": {},
   "outputs": [],
   "source": [
    "test['bmi'] = (test['weight(kg)'])/((test['height(cm)']/100)**2)"
   ]
  },
  {
   "cell_type": "code",
   "execution_count": 23,
   "metadata": {},
   "outputs": [],
   "source": [
    "model_1 = LogisticRegression(max_iter=500)"
   ]
  },
  {
   "cell_type": "code",
   "execution_count": 24,
   "metadata": {},
   "outputs": [
    {
     "data": {
      "text/plain": [
       "LogisticRegression(max_iter=500)"
      ]
     },
     "execution_count": 24,
     "metadata": {},
     "output_type": "execute_result"
    }
   ],
   "source": [
    "model_1.fit(X_train,y_train)"
   ]
  },
  {
   "cell_type": "code",
   "execution_count": 25,
   "metadata": {},
   "outputs": [],
   "source": [
    "y_pred_1 = model_1.predict(X_valid)"
   ]
  },
  {
   "cell_type": "code",
   "execution_count": 26,
   "metadata": {},
   "outputs": [],
   "source": [
    "roc_auc = roc_auc_score(y_valid,y_pred_1)"
   ]
  },
  {
   "cell_type": "code",
   "execution_count": 27,
   "metadata": {},
   "outputs": [
    {
     "name": "stdout",
     "output_type": "stream",
     "text": [
      "0.7202989222225162\n"
     ]
    }
   ],
   "source": [
    "print(roc_auc)"
   ]
  },
  {
   "cell_type": "code",
   "execution_count": 58,
   "metadata": {},
   "outputs": [],
   "source": [
    "model_2 = RandomForestClassifier(n_estimators = 100)"
   ]
  },
  {
   "cell_type": "code",
   "execution_count": 59,
   "metadata": {},
   "outputs": [
    {
     "data": {
      "text/plain": [
       "RandomForestClassifier()"
      ]
     },
     "execution_count": 59,
     "metadata": {},
     "output_type": "execute_result"
    }
   ],
   "source": [
    "model_2.fit(X_train,y_train)"
   ]
  },
  {
   "cell_type": "code",
   "execution_count": 60,
   "metadata": {},
   "outputs": [],
   "source": [
    "y_pred_2 = model_2.predict(X_valid)"
   ]
  },
  {
   "cell_type": "code",
   "execution_count": 61,
   "metadata": {},
   "outputs": [],
   "source": [
    "roc_auc_1 = roc_auc_score(y_valid,y_pred_2)"
   ]
  },
  {
   "cell_type": "code",
   "execution_count": 62,
   "metadata": {},
   "outputs": [
    {
     "name": "stdout",
     "output_type": "stream",
     "text": [
      "0.7727567764192952\n"
     ]
    }
   ],
   "source": [
    "print(roc_auc_1)"
   ]
  },
  {
   "cell_type": "code",
   "execution_count": 68,
   "metadata": {},
   "outputs": [],
   "source": [
    "model_3 = XGBClassifier(n_estimators=100,max_depth=5,learning_rate=0.3)"
   ]
  },
  {
   "cell_type": "code",
   "execution_count": 69,
   "metadata": {},
   "outputs": [
    {
     "data": {
      "text/plain": [
       "XGBClassifier(base_score=None, booster=None, callbacks=None,\n",
       "              colsample_bylevel=None, colsample_bynode=None,\n",
       "              colsample_bytree=None, early_stopping_rounds=None,\n",
       "              enable_categorical=False, eval_metric=None, feature_types=None,\n",
       "              gamma=None, gpu_id=None, grow_policy=None, importance_type=None,\n",
       "              interaction_constraints=None, learning_rate=0.3, max_bin=None,\n",
       "              max_cat_threshold=None, max_cat_to_onehot=None,\n",
       "              max_delta_step=None, max_depth=5, max_leaves=None,\n",
       "              min_child_weight=None, missing=nan, monotone_constraints=None,\n",
       "              n_estimators=100, n_jobs=None, num_parallel_tree=None,\n",
       "              predictor=None, random_state=None, ...)"
      ]
     },
     "execution_count": 69,
     "metadata": {},
     "output_type": "execute_result"
    }
   ],
   "source": [
    "model_3.fit(X_train,y_train)"
   ]
  },
  {
   "cell_type": "code",
   "execution_count": 70,
   "metadata": {},
   "outputs": [],
   "source": [
    "y_pred_3 = model_3.predict(X_valid)"
   ]
  },
  {
   "cell_type": "code",
   "execution_count": 71,
   "metadata": {},
   "outputs": [],
   "source": [
    "roc_auc_2 = roc_auc_score(y_valid,y_pred_3)"
   ]
  },
  {
   "cell_type": "code",
   "execution_count": 72,
   "metadata": {},
   "outputs": [
    {
     "name": "stdout",
     "output_type": "stream",
     "text": [
      "0.7835751285766821\n"
     ]
    }
   ],
   "source": [
    "print(roc_auc_2)"
   ]
  },
  {
   "cell_type": "code",
   "execution_count": 88,
   "metadata": {},
   "outputs": [],
   "source": [
    "model_4 = CatBoostClassifier(n_estimators=500,max_depth=5,learning_rate=0.01)"
   ]
  },
  {
   "cell_type": "code",
   "execution_count": 89,
   "metadata": {},
   "outputs": [
    {
     "name": "stdout",
     "output_type": "stream",
     "text": [
      "0:\tlearn: 0.6879402\ttotal: 77.7ms\tremaining: 38.8s\n",
      "1:\tlearn: 0.6831770\ttotal: 123ms\tremaining: 30.7s\n",
      "2:\tlearn: 0.6783767\ttotal: 168ms\tremaining: 27.9s\n",
      "3:\tlearn: 0.6738006\ttotal: 211ms\tremaining: 26.2s\n",
      "4:\tlearn: 0.6692254\ttotal: 255ms\tremaining: 25.2s\n",
      "5:\tlearn: 0.6647265\ttotal: 307ms\tremaining: 25.3s\n",
      "6:\tlearn: 0.6604508\ttotal: 369ms\tremaining: 26s\n",
      "7:\tlearn: 0.6560925\ttotal: 441ms\tremaining: 27.1s\n",
      "8:\tlearn: 0.6518759\ttotal: 526ms\tremaining: 28.7s\n",
      "9:\tlearn: 0.6478522\ttotal: 582ms\tremaining: 28.5s\n",
      "10:\tlearn: 0.6438150\ttotal: 641ms\tremaining: 28.5s\n",
      "11:\tlearn: 0.6399999\ttotal: 720ms\tremaining: 29.3s\n",
      "12:\tlearn: 0.6364378\ttotal: 775ms\tremaining: 29s\n",
      "13:\tlearn: 0.6327536\ttotal: 821ms\tremaining: 28.5s\n",
      "14:\tlearn: 0.6291200\ttotal: 864ms\tremaining: 27.9s\n",
      "15:\tlearn: 0.6255708\ttotal: 922ms\tremaining: 27.9s\n",
      "16:\tlearn: 0.6221487\ttotal: 966ms\tremaining: 27.4s\n",
      "17:\tlearn: 0.6187420\ttotal: 1.01s\tremaining: 27s\n",
      "18:\tlearn: 0.6154469\ttotal: 1.05s\tremaining: 26.7s\n",
      "19:\tlearn: 0.6123184\ttotal: 1.12s\tremaining: 27s\n",
      "20:\tlearn: 0.6093041\ttotal: 1.16s\tremaining: 26.5s\n",
      "21:\tlearn: 0.6064540\ttotal: 1.19s\tremaining: 25.9s\n",
      "22:\tlearn: 0.6035309\ttotal: 1.22s\tremaining: 25.4s\n",
      "23:\tlearn: 0.6006991\ttotal: 1.25s\tremaining: 24.9s\n",
      "24:\tlearn: 0.5979501\ttotal: 1.3s\tremaining: 24.7s\n",
      "25:\tlearn: 0.5953181\ttotal: 1.33s\tremaining: 24.3s\n",
      "26:\tlearn: 0.5926719\ttotal: 1.38s\tremaining: 24.2s\n",
      "27:\tlearn: 0.5900685\ttotal: 1.41s\tremaining: 23.8s\n",
      "28:\tlearn: 0.5876370\ttotal: 1.44s\tremaining: 23.4s\n",
      "29:\tlearn: 0.5852251\ttotal: 1.48s\tremaining: 23.3s\n",
      "30:\tlearn: 0.5829725\ttotal: 1.52s\tremaining: 23s\n",
      "31:\tlearn: 0.5806559\ttotal: 1.55s\tremaining: 22.6s\n",
      "32:\tlearn: 0.5785337\ttotal: 1.58s\tremaining: 22.4s\n",
      "33:\tlearn: 0.5764240\ttotal: 1.61s\tremaining: 22.1s\n",
      "34:\tlearn: 0.5742708\ttotal: 1.64s\tremaining: 21.8s\n",
      "35:\tlearn: 0.5722648\ttotal: 1.7s\tremaining: 21.9s\n",
      "36:\tlearn: 0.5702161\ttotal: 1.74s\tremaining: 21.8s\n",
      "37:\tlearn: 0.5682239\ttotal: 1.78s\tremaining: 21.6s\n",
      "38:\tlearn: 0.5662870\ttotal: 1.81s\tremaining: 21.4s\n",
      "39:\tlearn: 0.5644749\ttotal: 1.84s\tremaining: 21.2s\n",
      "40:\tlearn: 0.5627062\ttotal: 1.89s\tremaining: 21.1s\n",
      "41:\tlearn: 0.5609933\ttotal: 1.92s\tremaining: 20.9s\n",
      "42:\tlearn: 0.5592487\ttotal: 1.95s\tremaining: 20.7s\n",
      "43:\tlearn: 0.5575250\ttotal: 1.98s\tremaining: 20.5s\n",
      "44:\tlearn: 0.5558605\ttotal: 2.01s\tremaining: 20.4s\n",
      "45:\tlearn: 0.5542806\ttotal: 2.06s\tremaining: 20.3s\n",
      "46:\tlearn: 0.5527197\ttotal: 2.1s\tremaining: 20.3s\n",
      "47:\tlearn: 0.5511341\ttotal: 2.14s\tremaining: 20.1s\n",
      "48:\tlearn: 0.5496580\ttotal: 2.17s\tremaining: 20s\n",
      "49:\tlearn: 0.5481472\ttotal: 2.2s\tremaining: 19.8s\n",
      "50:\tlearn: 0.5466836\ttotal: 2.23s\tremaining: 19.7s\n",
      "51:\tlearn: 0.5454242\ttotal: 2.29s\tremaining: 19.8s\n",
      "52:\tlearn: 0.5440904\ttotal: 2.33s\tremaining: 19.7s\n",
      "53:\tlearn: 0.5427668\ttotal: 2.36s\tremaining: 19.5s\n",
      "54:\tlearn: 0.5415054\ttotal: 2.39s\tremaining: 19.4s\n",
      "55:\tlearn: 0.5402125\ttotal: 2.42s\tremaining: 19.2s\n",
      "56:\tlearn: 0.5390700\ttotal: 2.51s\tremaining: 19.5s\n",
      "57:\tlearn: 0.5378545\ttotal: 2.54s\tremaining: 19.4s\n",
      "58:\tlearn: 0.5367273\ttotal: 2.58s\tremaining: 19.3s\n",
      "59:\tlearn: 0.5356156\ttotal: 2.6s\tremaining: 19.1s\n",
      "60:\tlearn: 0.5344434\ttotal: 2.65s\tremaining: 19.1s\n",
      "61:\tlearn: 0.5333015\ttotal: 2.68s\tremaining: 19s\n",
      "62:\tlearn: 0.5322015\ttotal: 2.71s\tremaining: 18.8s\n",
      "63:\tlearn: 0.5310972\ttotal: 2.75s\tremaining: 18.7s\n",
      "64:\tlearn: 0.5300581\ttotal: 2.78s\tremaining: 18.6s\n",
      "65:\tlearn: 0.5290224\ttotal: 2.81s\tremaining: 18.5s\n",
      "66:\tlearn: 0.5280375\ttotal: 2.85s\tremaining: 18.4s\n",
      "67:\tlearn: 0.5271109\ttotal: 2.88s\tremaining: 18.3s\n",
      "68:\tlearn: 0.5261885\ttotal: 2.91s\tremaining: 18.2s\n",
      "69:\tlearn: 0.5252964\ttotal: 2.94s\tremaining: 18.1s\n",
      "70:\tlearn: 0.5243829\ttotal: 2.97s\tremaining: 18s\n",
      "71:\tlearn: 0.5234554\ttotal: 3s\tremaining: 17.9s\n",
      "72:\tlearn: 0.5225375\ttotal: 3.03s\tremaining: 17.8s\n",
      "73:\tlearn: 0.5216657\ttotal: 3.08s\tremaining: 17.7s\n",
      "74:\tlearn: 0.5208520\ttotal: 3.11s\tremaining: 17.6s\n",
      "75:\tlearn: 0.5199954\ttotal: 3.15s\tremaining: 17.5s\n",
      "76:\tlearn: 0.5191997\ttotal: 3.17s\tremaining: 17.4s\n",
      "77:\tlearn: 0.5183809\ttotal: 3.21s\tremaining: 17.3s\n",
      "78:\tlearn: 0.5176256\ttotal: 3.23s\tremaining: 17.2s\n",
      "79:\tlearn: 0.5168145\ttotal: 3.28s\tremaining: 17.2s\n",
      "80:\tlearn: 0.5160892\ttotal: 3.31s\tremaining: 17.1s\n",
      "81:\tlearn: 0.5153998\ttotal: 3.35s\tremaining: 17.1s\n",
      "82:\tlearn: 0.5146441\ttotal: 3.37s\tremaining: 17s\n",
      "83:\tlearn: 0.5139948\ttotal: 3.4s\tremaining: 16.9s\n",
      "84:\tlearn: 0.5133204\ttotal: 3.43s\tremaining: 16.8s\n",
      "85:\tlearn: 0.5126600\ttotal: 3.48s\tremaining: 16.7s\n",
      "86:\tlearn: 0.5119552\ttotal: 3.51s\tremaining: 16.7s\n",
      "87:\tlearn: 0.5112878\ttotal: 3.54s\tremaining: 16.6s\n",
      "88:\tlearn: 0.5106857\ttotal: 3.57s\tremaining: 16.5s\n",
      "89:\tlearn: 0.5100486\ttotal: 3.6s\tremaining: 16.4s\n",
      "90:\tlearn: 0.5094830\ttotal: 3.63s\tremaining: 16.3s\n",
      "91:\tlearn: 0.5088730\ttotal: 3.68s\tremaining: 16.3s\n",
      "92:\tlearn: 0.5083437\ttotal: 3.72s\tremaining: 16.3s\n",
      "93:\tlearn: 0.5077394\ttotal: 3.75s\tremaining: 16.2s\n",
      "94:\tlearn: 0.5071153\ttotal: 3.78s\tremaining: 16.1s\n",
      "95:\tlearn: 0.5065127\ttotal: 3.81s\tremaining: 16s\n",
      "96:\tlearn: 0.5059594\ttotal: 3.84s\tremaining: 16s\n",
      "97:\tlearn: 0.5053466\ttotal: 3.89s\tremaining: 15.9s\n",
      "98:\tlearn: 0.5047711\ttotal: 3.92s\tremaining: 15.9s\n",
      "99:\tlearn: 0.5042573\ttotal: 3.95s\tremaining: 15.8s\n",
      "100:\tlearn: 0.5038681\ttotal: 3.98s\tremaining: 15.7s\n",
      "101:\tlearn: 0.5034121\ttotal: 4.01s\tremaining: 15.6s\n",
      "102:\tlearn: 0.5029341\ttotal: 4.04s\tremaining: 15.6s\n",
      "103:\tlearn: 0.5024780\ttotal: 4.09s\tremaining: 15.6s\n",
      "104:\tlearn: 0.5019510\ttotal: 4.12s\tremaining: 15.5s\n",
      "105:\tlearn: 0.5014354\ttotal: 4.15s\tremaining: 15.4s\n",
      "106:\tlearn: 0.5010027\ttotal: 4.18s\tremaining: 15.3s\n",
      "107:\tlearn: 0.5004848\ttotal: 4.21s\tremaining: 15.3s\n",
      "108:\tlearn: 0.5000541\ttotal: 4.24s\tremaining: 15.2s\n",
      "109:\tlearn: 0.4996032\ttotal: 4.3s\tremaining: 15.3s\n",
      "110:\tlearn: 0.4991506\ttotal: 4.34s\tremaining: 15.2s\n",
      "111:\tlearn: 0.4987336\ttotal: 4.38s\tremaining: 15.2s\n",
      "112:\tlearn: 0.4983123\ttotal: 4.41s\tremaining: 15.1s\n",
      "113:\tlearn: 0.4978933\ttotal: 4.44s\tremaining: 15s\n",
      "114:\tlearn: 0.4975040\ttotal: 4.48s\tremaining: 15s\n",
      "115:\tlearn: 0.4970683\ttotal: 4.51s\tremaining: 14.9s\n",
      "116:\tlearn: 0.4967077\ttotal: 4.54s\tremaining: 14.9s\n",
      "117:\tlearn: 0.4964095\ttotal: 4.57s\tremaining: 14.8s\n",
      "118:\tlearn: 0.4960518\ttotal: 4.6s\tremaining: 14.7s\n",
      "119:\tlearn: 0.4957092\ttotal: 4.63s\tremaining: 14.6s\n",
      "120:\tlearn: 0.4953062\ttotal: 4.67s\tremaining: 14.6s\n",
      "121:\tlearn: 0.4949743\ttotal: 4.7s\tremaining: 14.6s\n",
      "122:\tlearn: 0.4945636\ttotal: 4.73s\tremaining: 14.5s\n",
      "123:\tlearn: 0.4941800\ttotal: 4.76s\tremaining: 14.4s\n",
      "124:\tlearn: 0.4937908\ttotal: 4.79s\tremaining: 14.4s\n",
      "125:\tlearn: 0.4935036\ttotal: 4.82s\tremaining: 14.3s\n",
      "126:\tlearn: 0.4932132\ttotal: 4.86s\tremaining: 14.3s\n",
      "127:\tlearn: 0.4928652\ttotal: 4.89s\tremaining: 14.2s\n",
      "128:\tlearn: 0.4925165\ttotal: 4.92s\tremaining: 14.2s\n",
      "129:\tlearn: 0.4921747\ttotal: 4.95s\tremaining: 14.1s\n",
      "130:\tlearn: 0.4918193\ttotal: 4.98s\tremaining: 14s\n",
      "131:\tlearn: 0.4914989\ttotal: 5.01s\tremaining: 14s\n",
      "132:\tlearn: 0.4911949\ttotal: 5.06s\tremaining: 14s\n",
      "133:\tlearn: 0.4908857\ttotal: 5.09s\tremaining: 13.9s\n",
      "134:\tlearn: 0.4906162\ttotal: 5.12s\tremaining: 13.8s\n",
      "135:\tlearn: 0.4902817\ttotal: 5.15s\tremaining: 13.8s\n",
      "136:\tlearn: 0.4899899\ttotal: 5.18s\tremaining: 13.7s\n",
      "137:\tlearn: 0.4896841\ttotal: 5.21s\tremaining: 13.7s\n",
      "138:\tlearn: 0.4894563\ttotal: 5.25s\tremaining: 13.6s\n",
      "139:\tlearn: 0.4891775\ttotal: 5.28s\tremaining: 13.6s\n",
      "140:\tlearn: 0.4889314\ttotal: 5.31s\tremaining: 13.5s\n",
      "141:\tlearn: 0.4886423\ttotal: 5.35s\tremaining: 13.5s\n",
      "142:\tlearn: 0.4883531\ttotal: 5.38s\tremaining: 13.4s\n",
      "143:\tlearn: 0.4881487\ttotal: 5.41s\tremaining: 13.4s\n",
      "144:\tlearn: 0.4878586\ttotal: 5.45s\tremaining: 13.3s\n",
      "145:\tlearn: 0.4876039\ttotal: 5.48s\tremaining: 13.3s\n",
      "146:\tlearn: 0.4873445\ttotal: 5.51s\tremaining: 13.2s\n",
      "147:\tlearn: 0.4871125\ttotal: 5.54s\tremaining: 13.2s\n",
      "148:\tlearn: 0.4868528\ttotal: 5.56s\tremaining: 13.1s\n",
      "149:\tlearn: 0.4866067\ttotal: 5.59s\tremaining: 13.1s\n",
      "150:\tlearn: 0.4863666\ttotal: 5.64s\tremaining: 13s\n",
      "151:\tlearn: 0.4861032\ttotal: 5.67s\tremaining: 13s\n",
      "152:\tlearn: 0.4858717\ttotal: 5.7s\tremaining: 12.9s\n",
      "153:\tlearn: 0.4856517\ttotal: 5.73s\tremaining: 12.9s\n",
      "154:\tlearn: 0.4854375\ttotal: 5.76s\tremaining: 12.8s\n",
      "155:\tlearn: 0.4851985\ttotal: 5.79s\tremaining: 12.8s\n",
      "156:\tlearn: 0.4849624\ttotal: 5.84s\tremaining: 12.8s\n",
      "157:\tlearn: 0.4847624\ttotal: 5.88s\tremaining: 12.7s\n",
      "158:\tlearn: 0.4845403\ttotal: 5.92s\tremaining: 12.7s\n",
      "159:\tlearn: 0.4843271\ttotal: 5.94s\tremaining: 12.6s\n",
      "160:\tlearn: 0.4840792\ttotal: 5.97s\tremaining: 12.6s\n"
     ]
    },
    {
     "name": "stdout",
     "output_type": "stream",
     "text": [
      "161:\tlearn: 0.4838281\ttotal: 6.01s\tremaining: 12.5s\n",
      "162:\tlearn: 0.4836072\ttotal: 6.05s\tremaining: 12.5s\n",
      "163:\tlearn: 0.4833940\ttotal: 6.08s\tremaining: 12.4s\n",
      "164:\tlearn: 0.4832027\ttotal: 6.11s\tremaining: 12.4s\n",
      "165:\tlearn: 0.4830000\ttotal: 6.13s\tremaining: 12.3s\n",
      "166:\tlearn: 0.4827587\ttotal: 6.16s\tremaining: 12.3s\n",
      "167:\tlearn: 0.4825447\ttotal: 6.2s\tremaining: 12.3s\n",
      "168:\tlearn: 0.4823344\ttotal: 6.23s\tremaining: 12.2s\n",
      "169:\tlearn: 0.4821846\ttotal: 6.26s\tremaining: 12.2s\n",
      "170:\tlearn: 0.4819510\ttotal: 6.29s\tremaining: 12.1s\n",
      "171:\tlearn: 0.4817446\ttotal: 6.32s\tremaining: 12.1s\n",
      "172:\tlearn: 0.4815390\ttotal: 6.43s\tremaining: 12.2s\n",
      "173:\tlearn: 0.4813499\ttotal: 6.5s\tremaining: 12.2s\n",
      "174:\tlearn: 0.4811547\ttotal: 6.53s\tremaining: 12.1s\n",
      "175:\tlearn: 0.4809945\ttotal: 6.56s\tremaining: 12.1s\n",
      "176:\tlearn: 0.4808286\ttotal: 6.59s\tremaining: 12s\n",
      "177:\tlearn: 0.4806567\ttotal: 6.62s\tremaining: 12s\n",
      "178:\tlearn: 0.4804854\ttotal: 6.65s\tremaining: 11.9s\n",
      "179:\tlearn: 0.4802944\ttotal: 6.68s\tremaining: 11.9s\n",
      "180:\tlearn: 0.4801291\ttotal: 6.71s\tremaining: 11.8s\n",
      "181:\tlearn: 0.4799892\ttotal: 6.74s\tremaining: 11.8s\n",
      "182:\tlearn: 0.4798153\ttotal: 6.77s\tremaining: 11.7s\n",
      "183:\tlearn: 0.4796369\ttotal: 6.8s\tremaining: 11.7s\n",
      "184:\tlearn: 0.4794569\ttotal: 6.84s\tremaining: 11.6s\n",
      "185:\tlearn: 0.4792900\ttotal: 6.87s\tremaining: 11.6s\n",
      "186:\tlearn: 0.4791373\ttotal: 6.89s\tremaining: 11.5s\n",
      "187:\tlearn: 0.4789973\ttotal: 6.93s\tremaining: 11.5s\n",
      "188:\tlearn: 0.4788376\ttotal: 6.95s\tremaining: 11.4s\n",
      "189:\tlearn: 0.4786678\ttotal: 6.98s\tremaining: 11.4s\n",
      "190:\tlearn: 0.4785170\ttotal: 7.01s\tremaining: 11.3s\n",
      "191:\tlearn: 0.4783728\ttotal: 7.05s\tremaining: 11.3s\n",
      "192:\tlearn: 0.4782462\ttotal: 7.08s\tremaining: 11.3s\n",
      "193:\tlearn: 0.4781064\ttotal: 7.11s\tremaining: 11.2s\n",
      "194:\tlearn: 0.4779491\ttotal: 7.14s\tremaining: 11.2s\n",
      "195:\tlearn: 0.4778501\ttotal: 7.18s\tremaining: 11.1s\n",
      "196:\tlearn: 0.4777357\ttotal: 7.21s\tremaining: 11.1s\n",
      "197:\tlearn: 0.4775855\ttotal: 7.24s\tremaining: 11s\n",
      "198:\tlearn: 0.4774264\ttotal: 7.27s\tremaining: 11s\n",
      "199:\tlearn: 0.4772678\ttotal: 7.3s\tremaining: 10.9s\n",
      "200:\tlearn: 0.4771257\ttotal: 7.33s\tremaining: 10.9s\n",
      "201:\tlearn: 0.4769674\ttotal: 7.36s\tremaining: 10.9s\n",
      "202:\tlearn: 0.4768312\ttotal: 7.39s\tremaining: 10.8s\n",
      "203:\tlearn: 0.4767062\ttotal: 7.42s\tremaining: 10.8s\n",
      "204:\tlearn: 0.4765853\ttotal: 7.45s\tremaining: 10.7s\n",
      "205:\tlearn: 0.4764257\ttotal: 7.48s\tremaining: 10.7s\n",
      "206:\tlearn: 0.4762836\ttotal: 7.51s\tremaining: 10.6s\n",
      "207:\tlearn: 0.4761439\ttotal: 7.54s\tremaining: 10.6s\n",
      "208:\tlearn: 0.4760152\ttotal: 7.57s\tremaining: 10.5s\n",
      "209:\tlearn: 0.4758802\ttotal: 7.6s\tremaining: 10.5s\n",
      "210:\tlearn: 0.4757682\ttotal: 7.63s\tremaining: 10.5s\n",
      "211:\tlearn: 0.4756269\ttotal: 7.67s\tremaining: 10.4s\n",
      "212:\tlearn: 0.4755103\ttotal: 7.69s\tremaining: 10.4s\n",
      "213:\tlearn: 0.4753819\ttotal: 7.72s\tremaining: 10.3s\n",
      "214:\tlearn: 0.4752566\ttotal: 7.75s\tremaining: 10.3s\n",
      "215:\tlearn: 0.4751501\ttotal: 7.79s\tremaining: 10.2s\n",
      "216:\tlearn: 0.4750098\ttotal: 7.82s\tremaining: 10.2s\n",
      "217:\tlearn: 0.4748805\ttotal: 7.84s\tremaining: 10.1s\n",
      "218:\tlearn: 0.4747414\ttotal: 7.87s\tremaining: 10.1s\n",
      "219:\tlearn: 0.4745958\ttotal: 7.9s\tremaining: 10.1s\n",
      "220:\tlearn: 0.4744824\ttotal: 7.93s\tremaining: 10s\n",
      "221:\tlearn: 0.4743613\ttotal: 7.97s\tremaining: 9.98s\n",
      "222:\tlearn: 0.4742365\ttotal: 8s\tremaining: 9.93s\n",
      "223:\tlearn: 0.4741046\ttotal: 8.03s\tremaining: 9.89s\n",
      "224:\tlearn: 0.4739828\ttotal: 8.06s\tremaining: 9.85s\n",
      "225:\tlearn: 0.4738563\ttotal: 8.11s\tremaining: 9.83s\n",
      "226:\tlearn: 0.4737296\ttotal: 8.13s\tremaining: 9.78s\n",
      "227:\tlearn: 0.4736153\ttotal: 8.17s\tremaining: 9.75s\n",
      "228:\tlearn: 0.4734904\ttotal: 8.2s\tremaining: 9.7s\n",
      "229:\tlearn: 0.4733788\ttotal: 8.23s\tremaining: 9.66s\n",
      "230:\tlearn: 0.4732742\ttotal: 8.26s\tremaining: 9.62s\n",
      "231:\tlearn: 0.4731940\ttotal: 8.29s\tremaining: 9.57s\n",
      "232:\tlearn: 0.4730687\ttotal: 8.31s\tremaining: 9.53s\n",
      "233:\tlearn: 0.4729538\ttotal: 8.34s\tremaining: 9.48s\n",
      "234:\tlearn: 0.4728491\ttotal: 8.38s\tremaining: 9.44s\n",
      "235:\tlearn: 0.4727324\ttotal: 8.41s\tremaining: 9.4s\n",
      "236:\tlearn: 0.4726207\ttotal: 8.44s\tremaining: 9.36s\n",
      "237:\tlearn: 0.4725344\ttotal: 8.47s\tremaining: 9.32s\n",
      "238:\tlearn: 0.4724164\ttotal: 8.5s\tremaining: 9.28s\n",
      "239:\tlearn: 0.4723236\ttotal: 8.59s\tremaining: 9.3s\n",
      "240:\tlearn: 0.4722149\ttotal: 8.62s\tremaining: 9.26s\n",
      "241:\tlearn: 0.4721134\ttotal: 8.65s\tremaining: 9.22s\n",
      "242:\tlearn: 0.4720129\ttotal: 8.68s\tremaining: 9.18s\n",
      "243:\tlearn: 0.4719131\ttotal: 8.71s\tremaining: 9.13s\n",
      "244:\tlearn: 0.4717913\ttotal: 8.73s\tremaining: 9.09s\n",
      "245:\tlearn: 0.4717031\ttotal: 8.76s\tremaining: 9.05s\n",
      "246:\tlearn: 0.4715918\ttotal: 8.79s\tremaining: 9s\n",
      "247:\tlearn: 0.4714995\ttotal: 8.82s\tremaining: 8.96s\n",
      "248:\tlearn: 0.4714009\ttotal: 8.85s\tremaining: 8.93s\n",
      "249:\tlearn: 0.4712991\ttotal: 8.88s\tremaining: 8.88s\n",
      "250:\tlearn: 0.4712067\ttotal: 8.91s\tremaining: 8.84s\n",
      "251:\tlearn: 0.4711121\ttotal: 8.94s\tremaining: 8.8s\n",
      "252:\tlearn: 0.4710191\ttotal: 8.97s\tremaining: 8.76s\n",
      "253:\tlearn: 0.4709096\ttotal: 9.01s\tremaining: 8.73s\n",
      "254:\tlearn: 0.4708212\ttotal: 9.04s\tremaining: 8.69s\n",
      "255:\tlearn: 0.4707332\ttotal: 9.07s\tremaining: 8.65s\n",
      "256:\tlearn: 0.4706491\ttotal: 9.1s\tremaining: 8.61s\n",
      "257:\tlearn: 0.4705576\ttotal: 9.13s\tremaining: 8.57s\n",
      "258:\tlearn: 0.4704627\ttotal: 9.16s\tremaining: 8.52s\n",
      "259:\tlearn: 0.4703697\ttotal: 9.2s\tremaining: 8.49s\n",
      "260:\tlearn: 0.4702781\ttotal: 9.23s\tremaining: 8.45s\n",
      "261:\tlearn: 0.4701907\ttotal: 9.26s\tremaining: 8.41s\n",
      "262:\tlearn: 0.4700892\ttotal: 9.29s\tremaining: 8.38s\n",
      "263:\tlearn: 0.4700130\ttotal: 9.32s\tremaining: 8.33s\n",
      "264:\tlearn: 0.4699039\ttotal: 9.35s\tremaining: 8.29s\n",
      "265:\tlearn: 0.4698044\ttotal: 9.38s\tremaining: 8.26s\n",
      "266:\tlearn: 0.4697375\ttotal: 9.41s\tremaining: 8.21s\n",
      "267:\tlearn: 0.4696601\ttotal: 9.44s\tremaining: 8.17s\n",
      "268:\tlearn: 0.4695688\ttotal: 9.47s\tremaining: 8.13s\n",
      "269:\tlearn: 0.4694809\ttotal: 9.5s\tremaining: 8.09s\n",
      "270:\tlearn: 0.4693696\ttotal: 9.53s\tremaining: 8.05s\n",
      "271:\tlearn: 0.4692818\ttotal: 9.56s\tremaining: 8.01s\n",
      "272:\tlearn: 0.4692056\ttotal: 9.6s\tremaining: 7.98s\n",
      "273:\tlearn: 0.4691000\ttotal: 9.62s\tremaining: 7.94s\n",
      "274:\tlearn: 0.4690239\ttotal: 9.65s\tremaining: 7.9s\n",
      "275:\tlearn: 0.4689468\ttotal: 9.68s\tremaining: 7.86s\n",
      "276:\tlearn: 0.4688507\ttotal: 9.71s\tremaining: 7.82s\n",
      "277:\tlearn: 0.4687662\ttotal: 9.74s\tremaining: 7.78s\n",
      "278:\tlearn: 0.4686942\ttotal: 9.77s\tremaining: 7.74s\n",
      "279:\tlearn: 0.4686097\ttotal: 9.8s\tremaining: 7.7s\n",
      "280:\tlearn: 0.4685206\ttotal: 9.83s\tremaining: 7.66s\n",
      "281:\tlearn: 0.4684522\ttotal: 9.86s\tremaining: 7.62s\n",
      "282:\tlearn: 0.4683790\ttotal: 9.89s\tremaining: 7.58s\n",
      "283:\tlearn: 0.4682949\ttotal: 9.92s\tremaining: 7.54s\n",
      "284:\tlearn: 0.4682208\ttotal: 9.96s\tremaining: 7.51s\n",
      "285:\tlearn: 0.4681502\ttotal: 9.98s\tremaining: 7.47s\n",
      "286:\tlearn: 0.4680864\ttotal: 10s\tremaining: 7.43s\n",
      "287:\tlearn: 0.4680027\ttotal: 10s\tremaining: 7.39s\n",
      "288:\tlearn: 0.4679069\ttotal: 10.1s\tremaining: 7.36s\n",
      "289:\tlearn: 0.4678182\ttotal: 10.1s\tremaining: 7.32s\n",
      "290:\tlearn: 0.4677477\ttotal: 10.2s\tremaining: 7.32s\n",
      "291:\tlearn: 0.4676543\ttotal: 10.2s\tremaining: 7.28s\n",
      "292:\tlearn: 0.4675772\ttotal: 10.3s\tremaining: 7.24s\n",
      "293:\tlearn: 0.4674829\ttotal: 10.3s\tremaining: 7.2s\n",
      "294:\tlearn: 0.4674077\ttotal: 10.3s\tremaining: 7.16s\n",
      "295:\tlearn: 0.4673414\ttotal: 10.3s\tremaining: 7.13s\n",
      "296:\tlearn: 0.4672589\ttotal: 10.4s\tremaining: 7.09s\n",
      "297:\tlearn: 0.4671851\ttotal: 10.4s\tremaining: 7.05s\n",
      "298:\tlearn: 0.4671087\ttotal: 10.4s\tremaining: 7.01s\n",
      "299:\tlearn: 0.4670303\ttotal: 10.5s\tremaining: 6.97s\n",
      "300:\tlearn: 0.4669592\ttotal: 10.5s\tremaining: 6.94s\n",
      "301:\tlearn: 0.4668727\ttotal: 10.6s\tremaining: 6.95s\n",
      "302:\tlearn: 0.4667909\ttotal: 10.6s\tremaining: 6.92s\n",
      "303:\tlearn: 0.4667245\ttotal: 10.7s\tremaining: 6.88s\n",
      "304:\tlearn: 0.4666270\ttotal: 10.7s\tremaining: 6.85s\n",
      "305:\tlearn: 0.4665733\ttotal: 10.7s\tremaining: 6.81s\n",
      "306:\tlearn: 0.4665158\ttotal: 10.8s\tremaining: 6.77s\n",
      "307:\tlearn: 0.4664597\ttotal: 10.8s\tremaining: 6.73s\n",
      "308:\tlearn: 0.4663728\ttotal: 10.8s\tremaining: 6.69s\n",
      "309:\tlearn: 0.4663009\ttotal: 10.9s\tremaining: 6.66s\n",
      "310:\tlearn: 0.4662471\ttotal: 10.9s\tremaining: 6.62s\n",
      "311:\tlearn: 0.4661945\ttotal: 10.9s\tremaining: 6.58s\n",
      "312:\tlearn: 0.4661071\ttotal: 11s\tremaining: 6.55s\n",
      "313:\tlearn: 0.4660339\ttotal: 11s\tremaining: 6.51s\n",
      "314:\tlearn: 0.4659715\ttotal: 11s\tremaining: 6.47s\n",
      "315:\tlearn: 0.4659266\ttotal: 11.1s\tremaining: 6.44s\n",
      "316:\tlearn: 0.4658482\ttotal: 11.1s\tremaining: 6.4s\n",
      "317:\tlearn: 0.4657622\ttotal: 11.1s\tremaining: 6.37s\n",
      "318:\tlearn: 0.4657028\ttotal: 11.2s\tremaining: 6.35s\n",
      "319:\tlearn: 0.4656351\ttotal: 11.2s\tremaining: 6.31s\n",
      "320:\tlearn: 0.4655612\ttotal: 11.3s\tremaining: 6.28s\n",
      "321:\tlearn: 0.4654779\ttotal: 11.3s\tremaining: 6.24s\n"
     ]
    },
    {
     "name": "stdout",
     "output_type": "stream",
     "text": [
      "322:\tlearn: 0.4653922\ttotal: 11.3s\tremaining: 6.21s\n",
      "323:\tlearn: 0.4653185\ttotal: 11.4s\tremaining: 6.17s\n",
      "324:\tlearn: 0.4652638\ttotal: 11.4s\tremaining: 6.13s\n",
      "325:\tlearn: 0.4651982\ttotal: 11.4s\tremaining: 6.09s\n",
      "326:\tlearn: 0.4651328\ttotal: 11.4s\tremaining: 6.05s\n",
      "327:\tlearn: 0.4650630\ttotal: 11.5s\tremaining: 6.02s\n",
      "328:\tlearn: 0.4649959\ttotal: 11.5s\tremaining: 5.98s\n",
      "329:\tlearn: 0.4649384\ttotal: 11.5s\tremaining: 5.94s\n",
      "330:\tlearn: 0.4648679\ttotal: 11.6s\tremaining: 5.91s\n",
      "331:\tlearn: 0.4648093\ttotal: 11.6s\tremaining: 5.87s\n",
      "332:\tlearn: 0.4647465\ttotal: 11.6s\tremaining: 5.83s\n",
      "333:\tlearn: 0.4646904\ttotal: 11.7s\tremaining: 5.79s\n",
      "334:\tlearn: 0.4646243\ttotal: 11.7s\tremaining: 5.75s\n",
      "335:\tlearn: 0.4645729\ttotal: 11.7s\tremaining: 5.72s\n",
      "336:\tlearn: 0.4645047\ttotal: 11.7s\tremaining: 5.68s\n",
      "337:\tlearn: 0.4644196\ttotal: 11.8s\tremaining: 5.64s\n",
      "338:\tlearn: 0.4643504\ttotal: 11.8s\tremaining: 5.62s\n",
      "339:\tlearn: 0.4642705\ttotal: 11.9s\tremaining: 5.59s\n",
      "340:\tlearn: 0.4642045\ttotal: 11.9s\tremaining: 5.55s\n",
      "341:\tlearn: 0.4641462\ttotal: 11.9s\tremaining: 5.51s\n",
      "342:\tlearn: 0.4640676\ttotal: 12s\tremaining: 5.48s\n",
      "343:\tlearn: 0.4640007\ttotal: 12s\tremaining: 5.44s\n",
      "344:\tlearn: 0.4639490\ttotal: 12s\tremaining: 5.41s\n",
      "345:\tlearn: 0.4638898\ttotal: 12.1s\tremaining: 5.37s\n",
      "346:\tlearn: 0.4638423\ttotal: 12.1s\tremaining: 5.33s\n",
      "347:\tlearn: 0.4637932\ttotal: 12.1s\tremaining: 5.3s\n",
      "348:\tlearn: 0.4637482\ttotal: 12.2s\tremaining: 5.26s\n",
      "349:\tlearn: 0.4636851\ttotal: 12.2s\tremaining: 5.22s\n",
      "350:\tlearn: 0.4636166\ttotal: 12.2s\tremaining: 5.18s\n",
      "351:\tlearn: 0.4635643\ttotal: 12.2s\tremaining: 5.15s\n",
      "352:\tlearn: 0.4634863\ttotal: 12.3s\tremaining: 5.11s\n",
      "353:\tlearn: 0.4634218\ttotal: 12.3s\tremaining: 5.08s\n",
      "354:\tlearn: 0.4633541\ttotal: 12.3s\tremaining: 5.04s\n",
      "355:\tlearn: 0.4632808\ttotal: 12.4s\tremaining: 5s\n",
      "356:\tlearn: 0.4632478\ttotal: 12.4s\tremaining: 4.96s\n",
      "357:\tlearn: 0.4631866\ttotal: 12.4s\tremaining: 4.93s\n",
      "358:\tlearn: 0.4631279\ttotal: 12.5s\tremaining: 4.89s\n",
      "359:\tlearn: 0.4630714\ttotal: 12.5s\tremaining: 4.88s\n",
      "360:\tlearn: 0.4630261\ttotal: 12.6s\tremaining: 4.85s\n",
      "361:\tlearn: 0.4629791\ttotal: 12.6s\tremaining: 4.81s\n",
      "362:\tlearn: 0.4629093\ttotal: 12.6s\tremaining: 4.77s\n",
      "363:\tlearn: 0.4628684\ttotal: 12.7s\tremaining: 4.74s\n",
      "364:\tlearn: 0.4628054\ttotal: 12.7s\tremaining: 4.7s\n",
      "365:\tlearn: 0.4627455\ttotal: 12.7s\tremaining: 4.66s\n",
      "366:\tlearn: 0.4627050\ttotal: 12.8s\tremaining: 4.63s\n",
      "367:\tlearn: 0.4626546\ttotal: 12.8s\tremaining: 4.59s\n",
      "368:\tlearn: 0.4626096\ttotal: 12.8s\tremaining: 4.55s\n",
      "369:\tlearn: 0.4625422\ttotal: 12.9s\tremaining: 4.52s\n",
      "370:\tlearn: 0.4624753\ttotal: 12.9s\tremaining: 4.48s\n",
      "371:\tlearn: 0.4624273\ttotal: 12.9s\tremaining: 4.44s\n",
      "372:\tlearn: 0.4623775\ttotal: 12.9s\tremaining: 4.41s\n",
      "373:\tlearn: 0.4623178\ttotal: 13s\tremaining: 4.37s\n",
      "374:\tlearn: 0.4622472\ttotal: 13s\tremaining: 4.33s\n",
      "375:\tlearn: 0.4621820\ttotal: 13s\tremaining: 4.3s\n",
      "376:\tlearn: 0.4621172\ttotal: 13.1s\tremaining: 4.26s\n",
      "377:\tlearn: 0.4620787\ttotal: 13.1s\tremaining: 4.23s\n",
      "378:\tlearn: 0.4620291\ttotal: 13.1s\tremaining: 4.19s\n",
      "379:\tlearn: 0.4619711\ttotal: 13.2s\tremaining: 4.16s\n",
      "380:\tlearn: 0.4619065\ttotal: 13.2s\tremaining: 4.12s\n",
      "381:\tlearn: 0.4618560\ttotal: 13.2s\tremaining: 4.08s\n",
      "382:\tlearn: 0.4618101\ttotal: 13.3s\tremaining: 4.05s\n",
      "383:\tlearn: 0.4617623\ttotal: 13.3s\tremaining: 4.01s\n",
      "384:\tlearn: 0.4617105\ttotal: 13.3s\tremaining: 3.98s\n",
      "385:\tlearn: 0.4616722\ttotal: 13.3s\tremaining: 3.94s\n",
      "386:\tlearn: 0.4616275\ttotal: 13.4s\tremaining: 3.9s\n",
      "387:\tlearn: 0.4615859\ttotal: 13.4s\tremaining: 3.87s\n",
      "388:\tlearn: 0.4615332\ttotal: 13.4s\tremaining: 3.83s\n",
      "389:\tlearn: 0.4614739\ttotal: 13.5s\tremaining: 3.79s\n",
      "390:\tlearn: 0.4614122\ttotal: 13.5s\tremaining: 3.76s\n",
      "391:\tlearn: 0.4613705\ttotal: 13.5s\tremaining: 3.72s\n",
      "392:\tlearn: 0.4613237\ttotal: 13.5s\tremaining: 3.69s\n",
      "393:\tlearn: 0.4612736\ttotal: 13.6s\tremaining: 3.65s\n",
      "394:\tlearn: 0.4612231\ttotal: 13.6s\tremaining: 3.62s\n",
      "395:\tlearn: 0.4611752\ttotal: 13.6s\tremaining: 3.58s\n",
      "396:\tlearn: 0.4611092\ttotal: 13.7s\tremaining: 3.54s\n",
      "397:\tlearn: 0.4610618\ttotal: 13.7s\tremaining: 3.51s\n",
      "398:\tlearn: 0.4610274\ttotal: 13.7s\tremaining: 3.47s\n",
      "399:\tlearn: 0.4609700\ttotal: 13.7s\tremaining: 3.44s\n",
      "400:\tlearn: 0.4609382\ttotal: 13.8s\tremaining: 3.4s\n",
      "401:\tlearn: 0.4608945\ttotal: 13.8s\tremaining: 3.37s\n",
      "402:\tlearn: 0.4608551\ttotal: 13.8s\tremaining: 3.33s\n",
      "403:\tlearn: 0.4608139\ttotal: 13.9s\tremaining: 3.29s\n",
      "404:\tlearn: 0.4607652\ttotal: 13.9s\tremaining: 3.26s\n",
      "405:\tlearn: 0.4607091\ttotal: 13.9s\tremaining: 3.22s\n",
      "406:\tlearn: 0.4606618\ttotal: 14s\tremaining: 3.19s\n",
      "407:\tlearn: 0.4606164\ttotal: 14s\tremaining: 3.15s\n",
      "408:\tlearn: 0.4605730\ttotal: 14s\tremaining: 3.12s\n",
      "409:\tlearn: 0.4605187\ttotal: 14s\tremaining: 3.08s\n",
      "410:\tlearn: 0.4604660\ttotal: 14.1s\tremaining: 3.05s\n",
      "411:\tlearn: 0.4604176\ttotal: 14.1s\tremaining: 3.01s\n",
      "412:\tlearn: 0.4603747\ttotal: 14.1s\tremaining: 2.98s\n",
      "413:\tlearn: 0.4603312\ttotal: 14.2s\tremaining: 2.94s\n",
      "414:\tlearn: 0.4602801\ttotal: 14.2s\tremaining: 2.91s\n",
      "415:\tlearn: 0.4602331\ttotal: 14.2s\tremaining: 2.87s\n",
      "416:\tlearn: 0.4601911\ttotal: 14.3s\tremaining: 2.84s\n",
      "417:\tlearn: 0.4601426\ttotal: 14.3s\tremaining: 2.8s\n",
      "418:\tlearn: 0.4600894\ttotal: 14.3s\tremaining: 2.77s\n",
      "419:\tlearn: 0.4600443\ttotal: 14.3s\tremaining: 2.73s\n",
      "420:\tlearn: 0.4599965\ttotal: 14.4s\tremaining: 2.7s\n",
      "421:\tlearn: 0.4599564\ttotal: 14.4s\tremaining: 2.66s\n",
      "422:\tlearn: 0.4599105\ttotal: 14.4s\tremaining: 2.63s\n",
      "423:\tlearn: 0.4598685\ttotal: 14.5s\tremaining: 2.59s\n",
      "424:\tlearn: 0.4598120\ttotal: 14.5s\tremaining: 2.56s\n",
      "425:\tlearn: 0.4597642\ttotal: 14.5s\tremaining: 2.52s\n",
      "426:\tlearn: 0.4597267\ttotal: 14.6s\tremaining: 2.49s\n",
      "427:\tlearn: 0.4596678\ttotal: 14.6s\tremaining: 2.46s\n",
      "428:\tlearn: 0.4596253\ttotal: 14.6s\tremaining: 2.42s\n",
      "429:\tlearn: 0.4595775\ttotal: 14.7s\tremaining: 2.38s\n",
      "430:\tlearn: 0.4595394\ttotal: 14.7s\tremaining: 2.35s\n",
      "431:\tlearn: 0.4595092\ttotal: 14.7s\tremaining: 2.31s\n",
      "432:\tlearn: 0.4594624\ttotal: 14.7s\tremaining: 2.28s\n",
      "433:\tlearn: 0.4594228\ttotal: 14.8s\tremaining: 2.25s\n",
      "434:\tlearn: 0.4593732\ttotal: 14.8s\tremaining: 2.21s\n",
      "435:\tlearn: 0.4593371\ttotal: 14.8s\tremaining: 2.18s\n",
      "436:\tlearn: 0.4592938\ttotal: 14.9s\tremaining: 2.14s\n",
      "437:\tlearn: 0.4592465\ttotal: 14.9s\tremaining: 2.11s\n",
      "438:\tlearn: 0.4592053\ttotal: 14.9s\tremaining: 2.07s\n",
      "439:\tlearn: 0.4591705\ttotal: 14.9s\tremaining: 2.04s\n",
      "440:\tlearn: 0.4591290\ttotal: 15s\tremaining: 2s\n",
      "441:\tlearn: 0.4590946\ttotal: 15s\tremaining: 1.97s\n",
      "442:\tlearn: 0.4590613\ttotal: 15s\tremaining: 1.93s\n",
      "443:\tlearn: 0.4590163\ttotal: 15.1s\tremaining: 1.9s\n",
      "444:\tlearn: 0.4589866\ttotal: 15.1s\tremaining: 1.86s\n",
      "445:\tlearn: 0.4589408\ttotal: 15.2s\tremaining: 1.84s\n",
      "446:\tlearn: 0.4588914\ttotal: 15.3s\tremaining: 1.81s\n",
      "447:\tlearn: 0.4588451\ttotal: 15.3s\tremaining: 1.77s\n",
      "448:\tlearn: 0.4588086\ttotal: 15.3s\tremaining: 1.74s\n",
      "449:\tlearn: 0.4587685\ttotal: 15.3s\tremaining: 1.71s\n",
      "450:\tlearn: 0.4587296\ttotal: 15.4s\tremaining: 1.67s\n",
      "451:\tlearn: 0.4586941\ttotal: 15.4s\tremaining: 1.64s\n",
      "452:\tlearn: 0.4586572\ttotal: 15.4s\tremaining: 1.6s\n",
      "453:\tlearn: 0.4586204\ttotal: 15.5s\tremaining: 1.57s\n",
      "454:\tlearn: 0.4585974\ttotal: 15.5s\tremaining: 1.53s\n",
      "455:\tlearn: 0.4585462\ttotal: 15.5s\tremaining: 1.5s\n",
      "456:\tlearn: 0.4584968\ttotal: 15.6s\tremaining: 1.46s\n",
      "457:\tlearn: 0.4584730\ttotal: 15.6s\tremaining: 1.43s\n",
      "458:\tlearn: 0.4584187\ttotal: 15.6s\tremaining: 1.39s\n",
      "459:\tlearn: 0.4583888\ttotal: 15.6s\tremaining: 1.36s\n",
      "460:\tlearn: 0.4583403\ttotal: 15.7s\tremaining: 1.33s\n",
      "461:\tlearn: 0.4583036\ttotal: 15.7s\tremaining: 1.29s\n",
      "462:\tlearn: 0.4582703\ttotal: 15.7s\tremaining: 1.26s\n",
      "463:\tlearn: 0.4582234\ttotal: 15.8s\tremaining: 1.22s\n",
      "464:\tlearn: 0.4581928\ttotal: 15.8s\tremaining: 1.19s\n",
      "465:\tlearn: 0.4581482\ttotal: 15.8s\tremaining: 1.15s\n",
      "466:\tlearn: 0.4581199\ttotal: 15.9s\tremaining: 1.12s\n",
      "467:\tlearn: 0.4580687\ttotal: 15.9s\tremaining: 1.09s\n",
      "468:\tlearn: 0.4580423\ttotal: 15.9s\tremaining: 1.05s\n",
      "469:\tlearn: 0.4580008\ttotal: 16s\tremaining: 1.02s\n",
      "470:\tlearn: 0.4579723\ttotal: 16s\tremaining: 984ms\n",
      "471:\tlearn: 0.4579419\ttotal: 16s\tremaining: 950ms\n",
      "472:\tlearn: 0.4579128\ttotal: 16s\tremaining: 916ms\n",
      "473:\tlearn: 0.4578757\ttotal: 16.1s\tremaining: 882ms\n",
      "474:\tlearn: 0.4578458\ttotal: 16.1s\tremaining: 847ms\n",
      "475:\tlearn: 0.4578055\ttotal: 16.1s\tremaining: 813ms\n",
      "476:\tlearn: 0.4577756\ttotal: 16.2s\tremaining: 779ms\n",
      "477:\tlearn: 0.4577243\ttotal: 16.2s\tremaining: 745ms\n",
      "478:\tlearn: 0.4576911\ttotal: 16.2s\tremaining: 712ms\n",
      "479:\tlearn: 0.4576556\ttotal: 16.3s\tremaining: 678ms\n",
      "480:\tlearn: 0.4576165\ttotal: 16.3s\tremaining: 644ms\n",
      "481:\tlearn: 0.4575731\ttotal: 16.3s\tremaining: 610ms\n",
      "482:\tlearn: 0.4575436\ttotal: 16.4s\tremaining: 577ms\n"
     ]
    },
    {
     "name": "stdout",
     "output_type": "stream",
     "text": [
      "483:\tlearn: 0.4575089\ttotal: 16.4s\tremaining: 543ms\n",
      "484:\tlearn: 0.4574827\ttotal: 16.5s\tremaining: 511ms\n",
      "485:\tlearn: 0.4574591\ttotal: 16.5s\tremaining: 477ms\n",
      "486:\tlearn: 0.4574297\ttotal: 16.6s\tremaining: 443ms\n",
      "487:\tlearn: 0.4573805\ttotal: 16.6s\tremaining: 409ms\n",
      "488:\tlearn: 0.4573378\ttotal: 16.6s\tremaining: 374ms\n",
      "489:\tlearn: 0.4573080\ttotal: 16.7s\tremaining: 340ms\n",
      "490:\tlearn: 0.4572700\ttotal: 16.7s\tremaining: 306ms\n",
      "491:\tlearn: 0.4572466\ttotal: 16.7s\tremaining: 272ms\n",
      "492:\tlearn: 0.4572019\ttotal: 16.8s\tremaining: 238ms\n",
      "493:\tlearn: 0.4571732\ttotal: 16.8s\tremaining: 204ms\n",
      "494:\tlearn: 0.4571318\ttotal: 16.8s\tremaining: 170ms\n",
      "495:\tlearn: 0.4570941\ttotal: 16.9s\tremaining: 136ms\n",
      "496:\tlearn: 0.4570592\ttotal: 16.9s\tremaining: 102ms\n",
      "497:\tlearn: 0.4570095\ttotal: 16.9s\tremaining: 67.9ms\n",
      "498:\tlearn: 0.4569724\ttotal: 16.9s\tremaining: 34ms\n",
      "499:\tlearn: 0.4569451\ttotal: 17s\tremaining: 0us\n"
     ]
    },
    {
     "data": {
      "text/plain": [
       "<catboost.core.CatBoostClassifier at 0x17385e724c0>"
      ]
     },
     "execution_count": 89,
     "metadata": {},
     "output_type": "execute_result"
    }
   ],
   "source": [
    "model_4.fit(X_train,y_train)"
   ]
  },
  {
   "cell_type": "code",
   "execution_count": 90,
   "metadata": {},
   "outputs": [],
   "source": [
    "y_pred_4 = model_4.predict(X_valid)"
   ]
  },
  {
   "cell_type": "code",
   "execution_count": 91,
   "metadata": {},
   "outputs": [],
   "source": [
    "roc_auc_3 = roc_auc_score(y_valid,y_pred_4)"
   ]
  },
  {
   "cell_type": "code",
   "execution_count": 92,
   "metadata": {},
   "outputs": [
    {
     "name": "stdout",
     "output_type": "stream",
     "text": [
      "0.7739875138488788\n"
     ]
    }
   ],
   "source": [
    "print(roc_auc_3)"
   ]
  },
  {
   "cell_type": "code",
   "execution_count": 96,
   "metadata": {},
   "outputs": [],
   "source": [
    "y_prediction = model_3.predict(test)"
   ]
  },
  {
   "cell_type": "code",
   "execution_count": 97,
   "metadata": {},
   "outputs": [],
   "source": [
    "submission = pd.DataFrame({'id':test['id'],'smoking':y_prediction})"
   ]
  },
  {
   "cell_type": "code",
   "execution_count": 98,
   "metadata": {},
   "outputs": [
    {
     "data": {
      "text/html": [
       "<div>\n",
       "<style scoped>\n",
       "    .dataframe tbody tr th:only-of-type {\n",
       "        vertical-align: middle;\n",
       "    }\n",
       "\n",
       "    .dataframe tbody tr th {\n",
       "        vertical-align: top;\n",
       "    }\n",
       "\n",
       "    .dataframe thead th {\n",
       "        text-align: right;\n",
       "    }\n",
       "</style>\n",
       "<table border=\"1\" class=\"dataframe\">\n",
       "  <thead>\n",
       "    <tr style=\"text-align: right;\">\n",
       "      <th></th>\n",
       "      <th>id</th>\n",
       "      <th>smoking</th>\n",
       "    </tr>\n",
       "  </thead>\n",
       "  <tbody>\n",
       "    <tr>\n",
       "      <th>0</th>\n",
       "      <td>159256</td>\n",
       "      <td>1</td>\n",
       "    </tr>\n",
       "    <tr>\n",
       "      <th>1</th>\n",
       "      <td>159257</td>\n",
       "      <td>0</td>\n",
       "    </tr>\n",
       "    <tr>\n",
       "      <th>2</th>\n",
       "      <td>159258</td>\n",
       "      <td>0</td>\n",
       "    </tr>\n",
       "    <tr>\n",
       "      <th>3</th>\n",
       "      <td>159259</td>\n",
       "      <td>0</td>\n",
       "    </tr>\n",
       "    <tr>\n",
       "      <th>4</th>\n",
       "      <td>159260</td>\n",
       "      <td>1</td>\n",
       "    </tr>\n",
       "  </tbody>\n",
       "</table>\n",
       "</div>"
      ],
      "text/plain": [
       "       id  smoking\n",
       "0  159256        1\n",
       "1  159257        0\n",
       "2  159258        0\n",
       "3  159259        0\n",
       "4  159260        1"
      ]
     },
     "execution_count": 98,
     "metadata": {},
     "output_type": "execute_result"
    }
   ],
   "source": [
    "submission.head()"
   ]
  },
  {
   "cell_type": "code",
   "execution_count": 100,
   "metadata": {},
   "outputs": [],
   "source": [
    "submission.to_csv(\"submission.csv\",index=False)"
   ]
  }
 ],
 "metadata": {
  "kernelspec": {
   "display_name": "Python 3",
   "language": "python",
   "name": "python3"
  },
  "language_info": {
   "codemirror_mode": {
    "name": "ipython",
    "version": 3
   },
   "file_extension": ".py",
   "mimetype": "text/x-python",
   "name": "python",
   "nbconvert_exporter": "python",
   "pygments_lexer": "ipython3",
   "version": "3.8.5"
  }
 },
 "nbformat": 4,
 "nbformat_minor": 4
}
